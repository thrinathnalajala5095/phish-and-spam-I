{
 "cells": [
  {
   "cell_type": "markdown",
   "metadata": {
    "colab_type": "text",
    "id": "LAEWbSpUN0Py"
   },
   "source": [
    "# **Phishing Detection with SVMs**"
   ]
  },
  {
   "cell_type": "code",
   "execution_count": 6,
   "metadata": {
    "colab": {},
    "colab_type": "code",
    "id": "6jymtXf_Mhp7"
   },
   "outputs": [],
   "source": [
    "#Normal imports needed\n",
    "import pandas as pd\n",
    "import numpy as np\n",
    "from sklearn import *\n",
    "import warnings \n",
    "warnings.simplefilter('ignore')"
   ]
  },
  {
   "cell_type": "code",
   "execution_count": 7,
   "metadata": {
    "colab": {
     "base_uri": "https://localhost:8080/",
     "height": 35
    },
    "colab_type": "code",
    "executionInfo": {
     "elapsed": 1142,
     "status": "ok",
     "timestamp": 1583359982184,
     "user": {
      "displayName": "Sundari Shreya Gopal",
      "photoUrl": "https://lh3.googleusercontent.com/a-/AOh14Gig3KiXvLRsMo78DLlQadJynGVrkkk-InM-hHPg=s64",
      "userId": "12677355139993558599"
     },
     "user_tz": 300
    },
    "id": "aQOdfMvPMhs7",
    "outputId": "fb313583-5903-48bb-de7e-34d26d5de08a"
   },
   "outputs": [
    {
     "data": {
      "text/plain": [
       "(151, 2)"
      ]
     },
     "execution_count": 7,
     "metadata": {},
     "output_type": "execute_result"
    }
   ],
   "source": [
    "# Loading the data \n",
    "phishing_dataset = np.genfromtxt(r'C:\\Users\\hp\\Desktop\\sms_spam_svm.csv', delimiter=',', dtype=np.int32)\n",
    "samples = phishing_dataset[:,:-1]\n",
    "targets = phishing_dataset[:, -1]\n",
    "samples.shape"
   ]
  },
  {
   "cell_type": "code",
   "execution_count": 8,
   "metadata": {
    "colab": {},
    "colab_type": "code",
    "id": "Ft9PA8QPMhwI"
   },
   "outputs": [],
   "source": [
    "#Splitting the dataset to train and test\n",
    "from sklearn.model_selection import train_test_split\n",
    "\n",
    "X_train, X_test, y_train, y_test = train_test_split(\n",
    "         samples, targets, test_size=0.2, random_state=12)"
   ]
  },
  {
   "cell_type": "code",
   "execution_count": 9,
   "metadata": {
    "colab": {},
    "colab_type": "code",
    "id": "_VTdtBVGMhya"
   },
   "outputs": [],
   "source": [
    "#Building the model\n",
    "from sklearn.svm import SVC\n",
    "\n",
    "svm = SVC(kernel='poly', C=1.0, random_state=12)\n",
    "svm.fit(X_train, y_train)\n",
    "\n",
    "# Predicting the target value for the test dataset\n",
    "y_pred = svm.predict(X_test)"
   ]
  },
  {
   "cell_type": "code",
   "execution_count": 10,
   "metadata": {
    "colab": {
     "base_uri": "https://localhost:8080/",
     "height": 52
    },
    "colab_type": "code",
    "executionInfo": {
     "elapsed": 331,
     "status": "ok",
     "timestamp": 1583359669919,
     "user": {
      "displayName": "Sundari Shreya Gopal",
      "photoUrl": "https://lh3.googleusercontent.com/a-/AOh14Gig3KiXvLRsMo78DLlQadJynGVrkkk-InM-hHPg=s64",
      "userId": "12677355139993558599"
     },
     "user_tz": 300
    },
    "id": "aIhu0DXnNQAv",
    "outputId": "a459c6b4-1920-4dcd-c8bd-ed5a83d7ee37"
   },
   "outputs": [
    {
     "name": "stdout",
     "output_type": "stream",
     "text": [
      "Misclassified samples: 27\n",
      "Accuracy: 0.13\n"
     ]
    }
   ],
   "source": [
    "# Calculating accuracy and number of mispredicted samples\n",
    "from sklearn.metrics import accuracy_score\n",
    "\n",
    "print('Misclassified samples: %d' % (y_test != y_pred).sum())\n",
    "print('Accuracy: %.2f' % accuracy_score(y_test, y_pred))"
   ]
  },
  {
   "cell_type": "code",
   "execution_count": null,
   "metadata": {},
   "outputs": [],
   "source": []
  },
  {
   "cell_type": "code",
   "execution_count": null,
   "metadata": {},
   "outputs": [],
   "source": []
  }
 ],
 "metadata": {
  "colab": {
   "authorship_tag": "ABX9TyOpSDmq9VVm0nIWRrr8cBfX",
   "collapsed_sections": [],
   "name": "AISec_Lab 3_Assignment: Phishing_SVM.ipynb",
   "provenance": []
  },
  "kernelspec": {
   "display_name": "Python 3 (ipykernel)",
   "language": "python",
   "name": "python3"
  },
  "language_info": {
   "codemirror_mode": {
    "name": "ipython",
    "version": 3
   },
   "file_extension": ".py",
   "mimetype": "text/x-python",
   "name": "python",
   "nbconvert_exporter": "python",
   "pygments_lexer": "ipython3",
   "version": "3.8.8"
  }
 },
 "nbformat": 4,
 "nbformat_minor": 1
}
